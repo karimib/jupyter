{
 "cells": [
  {
   "cell_type": "markdown",
   "metadata": {
    "collapsed": true,
    "pycharm": {
     "name": "#%% md\n"
    }
   },
   "source": [
    "# HM1 - Serie 10"
   ]
  },
  {
   "cell_type": "markdown",
   "source": [
    "## Aufgabe 1 - Jacobi-Verfahren"
   ],
   "metadata": {
    "collapsed": false
   }
  },
  {
   "cell_type": "code",
   "execution_count": 4,
   "outputs": [],
   "source": [
    "import numpy as np\n",
    "def jacobi(A,b,iter,x_start=None, p=False):\n",
    "    x = x_start\n",
    "    if x_start is None:\n",
    "        x = np.zeros(len(A[0]))\n",
    "    D = np.diag(A)\n",
    "    D_inv= np.diag(1/A)\n",
    "    L = np.tril(A, k=-1)\n",
    "    R = np.triu(A, k=1)\n",
    "\n",
    "    if p:\n",
    "        print(\"L\",L)\n",
    "        print(\"R\",R)\n",
    "        print(\"D\",D)\n",
    "        print(\"D_inv\",D_inv)\n",
    "    for i in range(iter):\n",
    "        x = -D_inv * ((L+R) @ x - b)\n",
    "    return x"
   ],
   "metadata": {
    "collapsed": false,
    "pycharm": {
     "name": "#%%\n"
    }
   }
  },
  {
   "cell_type": "markdown",
   "source": [
    "## Aufgabe 1a Konvergenz bzgl. Jacobi Verfahren"
   ],
   "metadata": {
    "collapsed": false
   }
  },
  {
   "cell_type": "code",
   "source": [
    "A = np.array([[8,5,2],[5,9,1],[4,2,7]])\n",
    "b = np.array([19,5,34])\n",
    "n = 1000\n",
    "\n",
    "res1 = jacobi(A,b,n)\n",
    "print(\"Aufgabe 1a mit n=\" + str(n))\n",
    "print(res1)"
   ],
   "metadata": {
    "collapsed": false,
    "pycharm": {
     "name": "#%%\n"
    }
   },
   "execution_count": 5,
   "outputs": [
    {
     "name": "stdout",
     "output_type": "stream",
     "text": [
      "Aufgabe 1a mit n=1000\n",
      "[ 2. -1.  4.]\n"
     ]
    }
   ]
  },
  {
   "cell_type": "markdown",
   "source": [
    "## Aufgabe 1b Berechnung mit gegebenem x_0, n"
   ],
   "metadata": {
    "collapsed": false
   }
  },
  {
   "cell_type": "code",
   "source": [
    "x_b = np.array([1,-1,3])\n",
    "n = 3\n",
    "res2 = jacobi(A,b,n,x_b,p=True)\n",
    "print(\"Aufgabe 1b mit n=\" + str(n))\n",
    "print(res2)"
   ],
   "metadata": {
    "collapsed": false,
    "pycharm": {
     "name": "#%%\n"
    }
   },
   "execution_count": 6,
   "outputs": [
    {
     "name": "stdout",
     "output_type": "stream",
     "text": [
      "L [[0 0 0]\n",
      " [5 0 0]\n",
      " [4 2 0]]\n",
      "R [[0 5 2]\n",
      " [0 0 1]\n",
      " [0 0 0]]\n",
      "D [8 9 7]\n",
      "D_inv [0.125      0.11111111 0.14285714]\n",
      "Aufgabe 1b mit n=3\n",
      "[ 2.20982143 -0.6521164   4.37755102]\n"
     ]
    }
   ]
  },
  {
   "cell_type": "markdown",
   "source": [
    "## Aufgabe 1c a-posteriori Abschätzung / Absoluter Fehler"
   ],
   "metadata": {
    "collapsed": false
   }
  },
  {
   "cell_type": "code",
   "execution_count": 7,
   "outputs": [
    {
     "name": "stdout",
     "output_type": "stream",
     "text": [
      "Absoluter Fehler [0.20982143 0.3478836  0.37755102]\n"
     ]
    }
   ],
   "source": [
    "print(\"Absoluter Fehler\", res2 - res1)"
   ],
   "metadata": {
    "collapsed": false,
    "pycharm": {
     "name": "#%%\n"
    }
   }
  },
  {
   "cell_type": "markdown",
   "source": [
    "## Aufgabe 1d a-priori Abschätzung von n für gegebenen max Fehler"
   ],
   "metadata": {
    "collapsed": false
   }
  },
  {
   "cell_type": "code",
   "execution_count": 8,
   "outputs": [
    {
     "name": "stdout",
     "output_type": "stream",
     "text": [
      "Absoluter Fehler <=0.0001 ab i=2\n"
     ]
    }
   ],
   "source": [
    "max_fehler = 1e-4\n",
    "res_exakt = np.array([2,-1,4])\n",
    "\n",
    "for i in range(1000):\n",
    "    if (jacobi(A,b,i) - res_exakt <= 1e-4).all():\n",
    "        res4 = i\n",
    "        break;\n",
    "\n",
    "print(\"Absoluter Fehler <=\" + str(max_fehler) + \" ab i=\" + str(res4))"
   ],
   "metadata": {
    "collapsed": false,
    "pycharm": {
     "name": "#%%\n"
    }
   }
  },
  {
   "cell_type": "markdown",
   "source": [
    "## Aufgabe 1e a-priori Abschätzung von n für gegebenen max Fehler"
   ],
   "metadata": {
    "collapsed": false
   }
  },
  {
   "cell_type": "code",
   "execution_count": 9,
   "outputs": [
    {
     "name": "stdout",
     "output_type": "stream",
     "text": [
      "Absoluter Fehler <=0.0001 ab i=2\n"
     ]
    }
   ],
   "source": [
    "x_b = np.array([1,-1,3])\n",
    "x_start = jacobi(A,b,2,x_b)\n",
    "\n",
    "for i_2 in range(1000):\n",
    "    if (jacobi(A,b,i_2, x_start) - res_exakt <= 1e-4).all():\n",
    "        res5 = i\n",
    "        break;\n",
    "\n",
    "print(\"Absoluter Fehler <=\" + str(max_fehler) + \" ab i=\" + str(res5))"
   ],
   "metadata": {
    "collapsed": false,
    "pycharm": {
     "name": "#%%\n"
    }
   }
  },
  {
   "cell_type": "markdown",
   "source": [
    "## Aufgabe 2: Gauss-Seidel"
   ],
   "metadata": {
    "collapsed": false
   }
  },
  {
   "cell_type": "code",
   "execution_count": 10,
   "outputs": [],
   "source": [
    "def gauss_seidel(A,b,iter,x_start=None):\n",
    "    x = x_start\n",
    "    if x_start is None:\n",
    "            x = np.zeros(len(A[0]))\n",
    "    n = len(A)\n",
    "    for k in range(iter):\n",
    "        for j in range(0, n):\n",
    "            D_2 = b[j]\n",
    "            for i in range(0, n):\n",
    "                if(j != i):\n",
    "                    D_2 -= A[j][i] * x[i]\n",
    "            x[j] = D_2 / A[j][j]\n",
    "    return x\n"
   ],
   "metadata": {
    "collapsed": false,
    "pycharm": {
     "name": "#%%\n"
    }
   }
  },
  {
   "cell_type": "markdown",
   "source": [
    "## Aufgabe 2a Konvergenz bzgl. Gauss-Seidel Verfahren"
   ],
   "metadata": {
    "collapsed": false
   }
  },
  {
   "cell_type": "code",
   "execution_count": 11,
   "outputs": [
    {
     "name": "stdout",
     "output_type": "stream",
     "text": [
      "Aufgabe 2a\n",
      "[ 1.94792995 -0.97361534  4.02221584]\n"
     ]
    }
   ],
   "source": [
    "A = np.array([[8,5,2],[5,9,1],[4,2,7]])\n",
    "b = np.array([19,5,34])\n",
    "iter = 3\n",
    "res6 = gauss_seidel(A,b,iter)\n",
    "print(\"Aufgabe 2a\")\n",
    "print(res6)"
   ],
   "metadata": {
    "collapsed": false,
    "pycharm": {
     "name": "#%%\n"
    }
   }
  },
  {
   "cell_type": "markdown",
   "source": [
    "## Aufgabe 2b Berechnung mit gegebenem x_0, n"
   ],
   "metadata": {
    "collapsed": false
   }
  },
  {
   "cell_type": "code",
   "execution_count": 12,
   "outputs": [
    {
     "name": "stdout",
     "output_type": "stream",
     "text": [
      "Aufgabe 1b mit n=3\n",
      "[1 0 4]\n"
     ]
    }
   ],
   "source": [
    "x_b = np.array([1,-1,3])\n",
    "iter = 1000\n",
    "res7 = gauss_seidel(A,b,iter, x_b)\n",
    "print(\"Aufgabe 1b mit n=\" + str(n))\n",
    "print(res7)"
   ],
   "metadata": {
    "collapsed": false,
    "pycharm": {
     "name": "#%%\n"
    }
   }
  },
  {
   "cell_type": "markdown",
   "source": [
    "## Aufgabe 2c a-posteriori Abschätzung / Absoluter Fehler"
   ],
   "metadata": {
    "collapsed": false
   }
  },
  {
   "cell_type": "code",
   "execution_count": 13,
   "outputs": [
    {
     "name": "stdout",
     "output_type": "stream",
     "text": [
      "Absoluter Fehler [-0.94792995  0.97361534 -0.02221584]\n"
     ]
    }
   ],
   "source": [
    "print(\"Absoluter Fehler\", res7 - res6)"
   ],
   "metadata": {
    "collapsed": false,
    "pycharm": {
     "name": "#%%\n"
    }
   }
  },
  {
   "cell_type": "markdown",
   "source": [
    "## Aufgabe 2d a-priori Abschätzung von n für gegebenen max Fehler"
   ],
   "metadata": {
    "collapsed": false
   }
  },
  {
   "cell_type": "code",
   "execution_count": 14,
   "outputs": [
    {
     "name": "stdout",
     "output_type": "stream",
     "text": [
      "Absoluter Fehler <=0.0001 ab i=9\n"
     ]
    }
   ],
   "source": [
    "max_fehler_2 = 1e-4\n",
    "res_exakt_2 = np.array([2,-1,4])\n",
    "\n",
    "for i in range(1000):\n",
    "    if np.all(gauss_seidel(A,b,i) - res_exakt_2 <= max_fehler_2):\n",
    "        res8 = i\n",
    "        break;\n",
    "\n",
    "print(\"Absoluter Fehler <=\" + str(max_fehler_2) + \" ab i=\" + str(res8))"
   ],
   "metadata": {
    "collapsed": false,
    "pycharm": {
     "name": "#%%\n"
    }
   }
  },
  {
   "cell_type": "markdown",
   "source": [
    "## Aufgabe 2e a-priori Abschätzung von n für gegebenen max Fehler"
   ],
   "metadata": {
    "collapsed": false
   }
  },
  {
   "cell_type": "code",
   "execution_count": 16,
   "outputs": [
    {
     "name": "stdout",
     "output_type": "stream",
     "text": [
      "Absoluter Fehler <=0.0001 ab i=9\n"
     ]
    }
   ],
   "source": [
    "x_b_2 = np.array([1,-1,3])\n",
    "x_start_2 = jacobi(A,b,2,x_b)\n",
    "\n",
    "for i_2 in range(1000):\n",
    "    if np.all(gauss_seidel(A,b,i_2,x_start_2) - res_exakt_2 <= max_fehler_2):\n",
    "        res9 = i\n",
    "        break;\n",
    "\n",
    "print(\"Absoluter Fehler <=\" + str(max_fehler_2) + \" ab i=\" + str(res9))"
   ],
   "metadata": {
    "collapsed": false,
    "pycharm": {
     "name": "#%%\n"
    }
   }
  }
 ],
 "metadata": {
  "kernelspec": {
   "display_name": "Python 3",
   "language": "python",
   "name": "python3"
  },
  "language_info": {
   "codemirror_mode": {
    "name": "ipython",
    "version": 2
   },
   "file_extension": ".py",
   "mimetype": "text/x-python",
   "name": "python",
   "nbconvert_exporter": "python",
   "pygments_lexer": "ipython2",
   "version": "2.7.6"
  }
 },
 "nbformat": 4,
 "nbformat_minor": 0
}