{
 "cells": [
  {
   "cell_type": "markdown",
   "source": [
    "# HM1 - Serie 5"
   ],
   "metadata": {
    "collapsed": false
   }
  },
  {
   "cell_type": "markdown",
   "metadata": {
    "collapsed": true,
    "pycharm": {
     "name": "#%% md\n"
    }
   },
   "source": [
    "### Aufgabe 2: Wassserstand mit Newton-Verfahren"
   ]
  },
  {
   "cell_type": "code",
   "execution_count": 2,
   "outputs": [
    {
     "name": "stdout",
     "output_type": "stream",
     "text": [
      "Starting parameters x_0: 9.0 epsilon: 0.01 max_iter: 100\n",
      "Value for x_1 7.658217376951713\n",
      "Value for x_2 8.014876532191066\n",
      "Value for x_3 8.03707967743404\n",
      "Found solution x: 8.03707967743404 after 3 iterations.\n"
     ]
    }
   ],
   "source": [
    "import numpy as np\n",
    "\n",
    "def newton(f,df,x0,epsilon,max_iter):\n",
    "    xn = x0\n",
    "    print(\"Starting parameters\"\n",
    "          + \" \"\n",
    "          + 'x_0: ' +  str(x0)\n",
    "          + \" \"\n",
    "          + 'epsilon: ' + str(epsilon)\n",
    "          + \" \"\n",
    "          + 'max_iter: ' + str(max_iter)\n",
    "          )\n",
    "    for n in range(0,max_iter):\n",
    "        fxn = f(xn)\n",
    "        if abs(fxn) < epsilon:\n",
    "            print('Found solution x:' + \" \" + str(xn) + \" \" + 'after',n,'iterations.')\n",
    "            return xn\n",
    "        dfxn = df(xn)\n",
    "        if dfxn == 0:\n",
    "            print('Zero derivative. No solution found.')\n",
    "            return None\n",
    "        xn = xn - fxn/dfxn\n",
    "        print('Value for x_' +str(n + 1) + \" \" + str(xn))\n",
    "    print('Exceeded maximum iterations. No solution found.')\n",
    "    return None\n",
    "\n",
    "\n",
    "\n",
    "v = lambda h: np.pi / 3 * h**2 * (15-h) - 471\n",
    "dv = lambda h: h * np.pi * (10  - h)\n",
    "\n",
    "r = 5\n",
    "\n",
    "approx = newton(v, dv, x0=9.0, epsilon=10e-3, max_iter=100)"
   ],
   "metadata": {
    "collapsed": false,
    "pycharm": {
     "name": "#%%\n"
    }
   }
  }
 ],
 "metadata": {
  "kernelspec": {
   "name": "pycharm-36997502",
   "language": "python",
   "display_name": "PyCharm (jupyter)"
  },
  "language_info": {
   "codemirror_mode": {
    "name": "ipython",
    "version": 2
   },
   "file_extension": ".py",
   "mimetype": "text/x-python",
   "name": "python",
   "nbconvert_exporter": "python",
   "pygments_lexer": "ipython2",
   "version": "2.7.6"
  }
 },
 "nbformat": 4,
 "nbformat_minor": 0
}