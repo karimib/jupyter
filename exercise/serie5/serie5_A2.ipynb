{
 "cells": [
  {
   "cell_type": "markdown",
   "metadata": {
    "collapsed": true,
    "pycharm": {
     "name": "#%% md\n"
    }
   },
   "source": [
    "### Aufgabe 2: Wassserstand mit Newton-Verfahren"
   ]
  },
  {
   "cell_type": "code",
   "execution_count": 11,
   "outputs": [
    {
     "name": "stdout",
     "output_type": "stream",
     "text": [
      "Starting parameters x_0: 9 epsilon: 0.01 max_iter: 100\n",
      "Value for x_1 8.811949132482555\n",
      "Value for x_2 8.650372916348307\n",
      "Value for x_3 8.515496974965112\n",
      "Value for x_4 8.405715928170165\n",
      "Value for x_5 8.318253711340798\n",
      "Value for x_6 8.249793954149288\n",
      "Value for x_7 8.196966739549016\n",
      "Value for x_8 8.15665945150888\n",
      "Value for x_9 8.126173480730012\n",
      "Value for x_10 8.103270549547688\n",
      "Value for x_11 8.086152337660927\n",
      "Value for x_12 8.073407077030852\n",
      "Value for x_13 8.06394509851415\n",
      "Value for x_14 8.056935757532163\n",
      "Value for x_15 8.051751639189419\n",
      "Value for x_16 8.047922022681723\n",
      "Value for x_17 8.045095498576934\n",
      "Value for x_18 8.043010686085566\n",
      "Value for x_19 8.041473691788678\n",
      "Value for x_20 8.040340969983472\n",
      "Value for x_21 8.039506404313274\n",
      "Value for x_22 8.03889163253272\n",
      "Value for x_23 8.038438833441683\n",
      "Value for x_24 8.038105367372763\n",
      "Value for x_25 8.037859803640966\n",
      "Value for x_26 8.037678981292396\n",
      "Value for x_27 8.037545837230699\n",
      "Value for x_28 8.037447802918567\n",
      "Value for x_29 8.037375621643445\n",
      "Found solution x: 8.037375621643445 after 29 iterations.\n",
      "0.009986092559074677\n"
     ]
    }
   ],
   "source": [
    "import numpy as np\n",
    "\n",
    "def newton(f,df,x0,epsilon,max_iter):\n",
    "    xn = x0\n",
    "    print(\"Starting parameters\"\n",
    "          + \" \"\n",
    "          + 'x_0: ' +  str(x0)\n",
    "          + \" \"\n",
    "          + 'epsilon: ' + str(epsilon)\n",
    "          + \" \"\n",
    "          + 'max_iter: ' + str(max_iter)\n",
    "          )\n",
    "    for n in range(0,max_iter):\n",
    "        fxn = f(xn)\n",
    "        if abs(fxn) < epsilon:\n",
    "            print('Found solution x:' + \" \" + str(xn) + \" \" + 'after',n,'iterations.')\n",
    "            return xn\n",
    "        dfxn = df(xn)\n",
    "        if dfxn == 0:\n",
    "            print('Zero derivative. No solution found.')\n",
    "            return None\n",
    "        xn = xn - fxn/dfxn\n",
    "        print('Value for x_' +str(n + 1) + \" \" + str(xn))\n",
    "    print('Exceeded maximum iterations. No solution found.')\n",
    "    return None\n",
    "\n",
    "\n",
    "\n",
    "v = lambda h: np.pi / 3 * h**2 * (15-h) - 471\n",
    "dv = lambda h: h * (np.pi * 10  - h)\n",
    "\n",
    "r = 5\n",
    "\n",
    "approx = newton(v, dv, 9, 10e-3, 100)"
   ],
   "metadata": {
    "collapsed": false,
    "pycharm": {
     "name": "#%%\n"
    }
   }
  }
 ],
 "metadata": {
  "kernelspec": {
   "name": "pycharm-36997502",
   "language": "python",
   "display_name": "PyCharm (jupyter)"
  },
  "language_info": {
   "codemirror_mode": {
    "name": "ipython",
    "version": 2
   },
   "file_extension": ".py",
   "mimetype": "text/x-python",
   "name": "python",
   "nbconvert_exporter": "python",
   "pygments_lexer": "ipython2",
   "version": "2.7.6"
  }
 },
 "nbformat": 4,
 "nbformat_minor": 0
}