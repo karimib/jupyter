{
 "cells": [
  {
   "cell_type": "markdown",
   "metadata": {
    "collapsed": true,
    "pycharm": {
     "name": "#%% md\n"
    }
   },
   "source": [
    "# HM1 Serie 5"
   ]
  },
  {
   "cell_type": "markdown",
   "source": [
    "### Aufgabe 1: Newton-Verfahren"
   ],
   "metadata": {
    "collapsed": false,
    "pycharm": {
     "name": "#%% md\n"
    }
   }
  },
  {
   "cell_type": "code",
   "execution_count": 1,
   "outputs": [
    {
     "name": "stdout",
     "output_type": "stream",
     "text": [
      "Starting parameters x_0: 2.0 epsilon: 0.0001 max_iter: 6\n",
      "Value for x_1 1.795040766664155\n",
      "Value for x_2 1.6250816927861245\n",
      "Value for x_3 1.5307701258451658\n",
      "Value for x_4 1.5086293201653753\n",
      "Value for x_5 1.5076388316982063\n",
      "Found solution x: 1.5076388316982063 after 5 iterations.\n"
     ]
    }
   ],
   "source": [
    "# Aufgabe 1: Newton-Verfahren\n",
    "import numpy as np\n",
    "'''\n",
    "Parameter\n",
    "f : function\n",
    "    Funktion f(x)\n",
    "Df : function\n",
    "    Ableitung von f(x) => f'(x)\n",
    "x0 : number\n",
    "    Startwert x0\n",
    "epsilon : number\n",
    "    Abbruchkriterium: abs(f(x)) < epsilon\n",
    "max_iter : integer\n",
    "    Anzahl Iterationen\n",
    "'''\n",
    "def newton(f,df,x0,epsilon,max_iter):\n",
    "    xn = x0\n",
    "    print(\"Starting parameters\"\n",
    "          + \" \"\n",
    "          + 'x_0: ' +  str(x0)\n",
    "          + \" \"\n",
    "          + 'epsilon: ' + str(epsilon)\n",
    "          + \" \"\n",
    "          + 'max_iter: ' + str(max_iter)\n",
    "          )\n",
    "    for n in range(0,max_iter):\n",
    "        fxn = f(xn)\n",
    "        if abs(fxn) < epsilon:\n",
    "            print('Found solution x:' + \" \" + str(xn) + \" \" + 'after',n,'iterations.')\n",
    "            return xn\n",
    "        dfxn = df(xn)\n",
    "        if dfxn == 0:\n",
    "            print('Zero derivative. No solution found.')\n",
    "            return None\n",
    "        xn = xn - fxn/dfxn\n",
    "        print('Value for x_' +str(n + 1) + \" \" + str(xn))\n",
    "    print('Exceeded maximum iterations. No solution found.')\n",
    "    return None\n",
    "\n",
    "p = lambda x: np.e**x**2 + x**-3 - 10\n",
    "dp = lambda x: 2*x*np.e**x**2 - 3*x**-4\n",
    "\n",
    "approx = newton(p,dp,2.0,1e-4,6)"
   ],
   "metadata": {
    "collapsed": false,
    "pycharm": {
     "name": "#%%\n"
    }
   }
  },
  {
   "cell_type": "markdown",
   "source": [
    "### Aufgabe 1: Newton-Verfahren vereinfacht (immer f'(x0))"
   ],
   "metadata": {
    "collapsed": false
   }
  },
  {
   "cell_type": "code",
   "execution_count": 2,
   "outputs": [
    {
     "name": "stdout",
     "output_type": "stream",
     "text": [
      "Starting parameters x_0: 0.5 epsilon: 0.0001 max_iter: 6\n",
      "Value for x_1 0.4846738810503588\n",
      "Value for x_2 0.4857005232901387\n",
      "Value for x_3 0.4855644460579851\n",
      "Value for x_4 0.48558189957472286\n",
      "Value for x_5 0.48557965102552136\n",
      "Found solution x: 0.48557965102552136 after 5 iterations.\n"
     ]
    }
   ],
   "source": [
    "'''\n",
    "Parameter\n",
    "f : function\n",
    "    Funktion f(x)\n",
    "Df : function\n",
    "    Ableitung von f(x) => f'(x)\n",
    "x0 : number\n",
    "    Startwert x0\n",
    "epsilon : number\n",
    "    Abbruchkriterium: abs(f(x)) < epsilon\n",
    "max_iter : integer\n",
    "    Anzahl Iterationen\n",
    "'''\n",
    "def newton_easy(f,df,x0,epsilon,max_iter):\n",
    "    xn = x0\n",
    "    dfxn = df(x0)\n",
    "    print(\"Starting parameters\"\n",
    "          + \" \"\n",
    "          + 'x_0: ' +  str(x0)\n",
    "          + \" \"\n",
    "          + 'epsilon: ' + str(epsilon)\n",
    "          + \" \"\n",
    "          + 'max_iter: ' + str(max_iter)\n",
    "          )\n",
    "    for n in range(0,max_iter):\n",
    "        fxn = f(xn)\n",
    "        if abs(fxn) < epsilon:\n",
    "            print('Found solution x:' + \" \" + str(xn) + \" \" + 'after',n,'iterations.')\n",
    "            return xn\n",
    "        if dfxn == 0:\n",
    "            print('Zero derivative. No solution found.')\n",
    "            return None\n",
    "        xn = xn - fxn/dfxn\n",
    "        print('Value for x_' +str(n + 1) + \" \" + str(xn))\n",
    "    print('Exceeded maximum iterations. No solution found.')\n",
    "    return None\n",
    "\n",
    "p = lambda x: np.e**x**2 + x**-3 - 10\n",
    "dp = lambda x: 2*x*np.e**x**2 - 3*x**-4\n",
    "\n",
    "approx = newton_easy(p,dp,0.5,1e-4,6)"
   ],
   "metadata": {
    "collapsed": false,
    "pycharm": {
     "name": "#%%\n"
    }
   }
  },
  {
   "cell_type": "markdown",
   "source": [
    "### Aufgabe 1: Sekanten-Verfahren"
   ],
   "metadata": {
    "collapsed": false,
    "pycharm": {
     "name": "#%% md\n"
    }
   }
  },
  {
   "cell_type": "code",
   "source": [
    "'''\n",
    "Parameter\n",
    "f : function\n",
    "    Funktion f(x)\n",
    "x0 : number\n",
    "    Startwert x0\n",
    "x1 : number\n",
    "    Startwert x1\n",
    "epsilon : number\n",
    "    Abbruchkriterium: abs(f(x)) < epsilon\n",
    "max_iter : integer\n",
    "    Anzahl Iterationen\n",
    "'''\n",
    "def sekanten(f,x0,x1,epsilon,max_iter):\n",
    "    xn_min1 = x0\n",
    "    xn = x1\n",
    "    print(\"Starting parameters\"\n",
    "          + \" \"\n",
    "          + 'x_0: ' +  str(x0)\n",
    "          + \" \"\n",
    "          + 'x_1: ' +  str(x1)\n",
    "          + \" \"\n",
    "          + 'epsilon: ' + str(epsilon)\n",
    "          + \" \"\n",
    "          + 'max_iter: ' + str(max_iter)\n",
    "          )\n",
    "    for n in range(0,max_iter):\n",
    "        fxn = f(xn)\n",
    "        fxnMin1 = f(xn_min1)\n",
    "        if abs(fxn) < epsilon:\n",
    "            print('Found solution x:' + \" \" + str(xn) + \" \" + 'after',n,'iterations.')\n",
    "            return xn\n",
    "        tmp = xn\n",
    "        xn = xn - (((xn - xn_min1) / (fxn - fxnMin1)) * fxn)\n",
    "        xn_min1 = tmp\n",
    "        print('Value for x_' +str(n + 2) + \" \" + str(xn))\n",
    "    return None\n",
    "\n",
    "p = lambda x: np.e**x**2 + x**-3 - 10\n",
    "\n",
    "approx = sekanten(p,-1.0,-1.2,1e-4,10)"
   ],
   "metadata": {
    "collapsed": false,
    "pycharm": {
     "name": "#%%\n"
    }
   },
   "execution_count": 3,
   "outputs": [
    {
     "name": "stdout",
     "output_type": "stream",
     "text": [
      "Starting parameters x_0: -1.0 x_1: -1.2 epsilon: 0.0001 max_iter: 10\n",
      "Value for x_2 -1.8610151161359973\n",
      "Value for x_3 -1.34941760464263\n",
      "Value for x_4 -1.4326421012234578\n",
      "Value for x_5 -1.5593897218430148\n",
      "Value for x_6 -1.5208743995983327\n",
      "Value for x_7 -1.5262038445789967\n",
      "Value for x_8 -1.5265381657891766\n",
      "Value for x_9 -1.5265347852579538\n",
      "Found solution x: -1.5265347852579538 after 8 iterations.\n"
     ]
    }
   ]
  }
 ],
 "metadata": {
  "kernelspec": {
   "name": "pycharm-36997502",
   "language": "python",
   "display_name": "PyCharm (jupyter)"
  },
  "language_info": {
   "codemirror_mode": {
    "name": "ipython",
    "version": 2
   },
   "file_extension": ".py",
   "mimetype": "text/x-python",
   "name": "python",
   "nbconvert_exporter": "python",
   "pygments_lexer": "ipython2",
   "version": "2.7.6"
  }
 },
 "nbformat": 4,
 "nbformat_minor": 0
}