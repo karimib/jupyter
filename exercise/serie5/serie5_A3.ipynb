{
 "cells": [
  {
   "cell_type": "markdown",
   "source": [
    "# HM1 - Serie 6"
   ],
   "metadata": {
    "collapsed": false
   }
  },
  {
   "cell_type": "markdown",
   "source": [
    "### Aufgabe 3: Sekanten-Verfahren als Funktion"
   ],
   "metadata": {
    "collapsed": false
   }
  },
  {
   "cell_type": "code",
   "source": [
    "def sekanten(f,x0,x1,tol):\n",
    "    xn_min1 = x0\n",
    "    xn = x1\n",
    "    print(\"Starting parameters\"\n",
    "          + \" \"\n",
    "          + 'x_0: ' +  str(x0)\n",
    "          + \" \"\n",
    "          + 'x_1: ' +  str(x1)\n",
    "          + \" \"\n",
    "          + 'epsilon: ' + str(tol)\n",
    "          )\n",
    "    for n in range(0,100):\n",
    "        fxn = f(xn)\n",
    "        fxnMin1 = f(xn_min1)\n",
    "        if abs(fxn) < tol:\n",
    "            print('Found solution x:' + \" \" + str(xn) + \" \" + 'after',n,'iterations.')\n",
    "            return xn\n",
    "        tmp = xn\n",
    "        xn = xn - (((xn - xn_min1) / (fxn - fxnMin1)) * fxn)\n",
    "        xn_min1 = tmp\n",
    "        print('Value for x_' +str(n + 2) + \" \" + str(xn))\n",
    "    return None"
   ],
   "metadata": {
    "collapsed": false,
    "pycharm": {
     "name": "#%%\n"
    }
   },
   "execution_count": null,
   "outputs": []
  }
 ],
 "metadata": {
  "kernelspec": {
   "name": "pycharm-36997502",
   "language": "python",
   "display_name": "PyCharm (jupyter)"
  },
  "language_info": {
   "codemirror_mode": {
    "name": "ipython",
    "version": 2
   },
   "file_extension": ".py",
   "mimetype": "text/x-python",
   "name": "python",
   "nbconvert_exporter": "python",
   "pygments_lexer": "ipython2",
   "version": "2.7.6"
  }
 },
 "nbformat": 4,
 "nbformat_minor": 0
}