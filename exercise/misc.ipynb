{
 "cells": [
  {
   "cell_type": "markdown",
   "metadata": {
    "collapsed": true,
    "pycharm": {
     "name": "#%% md\n"
    }
   },
   "source": [
    "# Misc"
   ]
  },
  {
   "cell_type": "markdown",
   "source": [
    "### SW 7 Matrixnorm"
   ],
   "metadata": {
    "collapsed": false,
    "pycharm": {
     "name": "#%% md\n"
    }
   }
  },
  {
   "cell_type": "code",
   "execution_count": null,
   "outputs": [],
   "source": [
    "import numpy as np\n",
    "\n",
    "def Norm(A, k):\n",
    "    return\n",
    "\n",
    "A = np.arange([[1,2,3], [3,4,-2], [7,-3,5]])"
   ],
   "metadata": {
    "collapsed": false,
    "pycharm": {
     "name": "#%%\n"
    }
   }
  },
  {
   "cell_type": "markdown",
   "source": [
    "Norm:\n",
    "||A||_1 = spalten summieren dann max nehmen\n",
    "||A||_infinity =\n",
    "\n",
    "Lemma:\n",
    "Es gilt\n",
    "||A*x||_infinity <= ||A||_infinity * ||x||_infinity\n",
    "\n",
    "Beweis:\n",
    "y = A * x\n",
    "\n",
    "||y||_infinity = max(i) |y_i| = max(i)|sum({j=-1 -> n} a_ij*x_j|"
   ],
   "metadata": {
    "collapsed": false
   }
  }
 ],
 "metadata": {
  "kernelspec": {
   "name": "pycharm-36997502",
   "language": "python",
   "display_name": "PyCharm (jupyter)"
  },
  "language_info": {
   "codemirror_mode": {
    "name": "ipython",
    "version": 2
   },
   "file_extension": ".py",
   "mimetype": "text/x-python",
   "name": "python",
   "nbconvert_exporter": "python",
   "pygments_lexer": "ipython2",
   "version": "2.7.6"
  }
 },
 "nbformat": 4,
 "nbformat_minor": 0
}