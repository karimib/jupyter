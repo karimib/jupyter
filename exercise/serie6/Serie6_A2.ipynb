{
 "cells": [
  {
   "cell_type": "markdown",
   "source": [
    "# HM1 - Serie 6"
   ],
   "metadata": {
    "collapsed": false
   }
  },
  {
   "cell_type": "markdown",
   "metadata": {
    "collapsed": true,
    "pycharm": {
     "name": "#%% md\n"
    }
   },
   "source": [
    "# Aufgabe 2: L-R-Zerlegung"
   ]
  },
  {
   "cell_type": "code",
   "execution_count": 3,
   "outputs": [
    {
     "name": "stdout",
     "output_type": "stream",
     "text": [
      "[ 20.  80. 240.]\n"
     ]
    }
   ],
   "source": [
    "import numpy as np\n",
    "\n",
    "def LR(A):\n",
    "    m,n = A.shape\n",
    "    L = np.eye(m)\n",
    "    R = A.astype('float')\n",
    "    for k in range(n-1):\n",
    "        L[k+1:, k] = R[k+1:, k] / R[k, k]\n",
    "        R[k+1:, k:] = R[k+1:, k:] - np.outer(L[k+1:,k],R[k,k:])\n",
    "    return L, R\n",
    "\n",
    "def SolveR(R, b):\n",
    "    n = len(b)\n",
    "    x = np.zeros(n)\n",
    "    x[-1] = b[-1]/R[-1,-1]\n",
    "    for k in range(n-2,-1,-1):\n",
    "        x[k] = (b[k]-np.sum(R[k,k+1:]*x[k+1:]))/R[k,k]\n",
    "    return x\n",
    "\n",
    "def SolveL(L, b):\n",
    "    n = len(b)\n",
    "    x = np.zeros(n)\n",
    "    x[0] = b[0]/L[0,0]\n",
    "    for k in range(1,n):\n",
    "        x[k] = (b[k]-np.sum(L[k,:k]*x[:k]))/L[k,k]\n",
    "    return x\n",
    "\n",
    "A = np.array([[20e3,30e3,10e3],[10e3,17e3,6e3],[2e3,3e3,2e3]])\n",
    "b = np.array([52e5,3e6,76e4])\n",
    "L, R = LR(A)\n",
    "y = SolveL(L,b)\n",
    "x = SolveR(R,y)\n",
    "\n",
    "print(x)"
   ],
   "metadata": {
    "collapsed": false,
    "pycharm": {
     "name": "#%%\n"
    }
   }
  }
 ],
 "metadata": {
  "kernelspec": {
   "name": "pycharm-36997502",
   "language": "python",
   "display_name": "PyCharm (jupyter)"
  },
  "language_info": {
   "codemirror_mode": {
    "name": "ipython",
    "version": 2
   },
   "file_extension": ".py",
   "mimetype": "text/x-python",
   "name": "python",
   "nbconvert_exporter": "python",
   "pygments_lexer": "ipython2",
   "version": "2.7.6"
  }
 },
 "nbformat": 4,
 "nbformat_minor": 0
}